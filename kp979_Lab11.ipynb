{
  "nbformat": 4,
  "nbformat_minor": 0,
  "metadata": {
    "colab": {
      "provenance": []
    },
    "kernelspec": {
      "name": "python3",
      "display_name": "Python 3"
    },
    "language_info": {
      "name": "python"
    }
  },
  "cells": [
    {
      "cell_type": "code",
      "source": [
        "# Setup - Run this cell first\n",
        "import polars as pl\n",
        "\n",
        "# Load data\n",
        "airlines = pl.read_csv('https://raw.githubusercontent.com/philhetzel/opan5510-class11/refs/heads/main/data/nyc_airlines.csv')\n",
        "airports = pl.read_csv('https://raw.githubusercontent.com/philhetzel/opan5510-class11/refs/heads/main/data/nyc_airports.csv', null_values=[\"NA\"])\n",
        "flights = pl.read_csv('https://raw.githubusercontent.com/philhetzel/opan5510-class11/refs/heads/main/data/nyc_flights.csv', null_values=[\"NA\"])\n",
        "planes = pl.read_csv('https://raw.githubusercontent.com/philhetzel/opan5510-class11/refs/heads/main/data/nyc_planes.csv', null_values=[\"NA\"])\n",
        "weather = pl.read_csv('https://raw.githubusercontent.com/philhetzel/opan5510-class11/refs/heads/main/data/nyc_weather.csv', null_values=[\"NA\"], infer_schema_length=10000)\n",
        "\n",
        "flights = flights.with_columns(pl.col(\"time_hour\").str.strptime(pl.Datetime))\n",
        "weather = weather.with_columns(pl.col(\"time_hour\").str.strptime(pl.Datetime))\n",
        "\n",
        "# Create SQL context\n",
        "ctx = pl.SQLContext(\n",
        "    airlines=airlines,\n",
        "    airports=airports,\n",
        "    flights=flights,\n",
        "    planes=planes,\n",
        "    weather=weather,\n",
        "    eager_execution=True\n",
        ")\n",
        "\n",
        "print(\"Setup complete! Tables available:\")\n",
        "print(ctx.execute(\"SHOW TABLES\"))\n",
        "print(\"Weather:\", weather.columns)\n",
        "print(\"Flights:\", flights.columns)\n",
        "print(\"Planes:\", planes.columns)\n",
        "print(\"Airlines:\", airlines.columns)\n",
        "print(\"Airports:\", airports.columns)"
      ],
      "metadata": {
        "colab": {
          "base_uri": "https://localhost:8080/"
        },
        "id": "c43nIPcIvzFH",
        "outputId": "38d941af-175d-41c2-edd7-53db773d89e4"
      },
      "execution_count": 24,
      "outputs": [
        {
          "output_type": "stream",
          "name": "stdout",
          "text": [
            "Setup complete! Tables available:\n",
            "shape: (5, 1)\n",
            "┌──────────┐\n",
            "│ name     │\n",
            "│ ---      │\n",
            "│ str      │\n",
            "╞══════════╡\n",
            "│ airlines │\n",
            "│ airports │\n",
            "│ flights  │\n",
            "│ planes   │\n",
            "│ weather  │\n",
            "└──────────┘\n",
            "Weather: ['origin', 'year', 'month', 'day', 'hour', 'temp', 'dewp', 'humid', 'wind_dir', 'wind_speed', 'wind_gust', 'precip', 'pressure', 'visib', 'time_hour']\n",
            "Flights: ['year', 'month', 'day', 'dep_time', 'sched_dep_time', 'dep_delay', 'arr_time', 'sched_arr_time', 'arr_delay', 'carrier', 'flight', 'tailnum', 'origin', 'dest', 'air_time', 'distance', 'hour', 'minute', 'time_hour']\n",
            "Planes: ['tailnum', 'year', 'type', 'manufacturer', 'model', 'engines', 'seats', 'speed', 'engine']\n",
            "Airlines: ['carrier', 'name']\n",
            "Airports: ['faa', 'name', 'lat', 'lon', 'alt', 'tz', 'dst', 'tzone']\n"
          ]
        },
        {
          "output_type": "stream",
          "name": "stderr",
          "text": [
            "/tmp/ipython-input-3186420141.py:15: DeprecationWarning: The argument `eager_execution` for `SQLContext.__init__` is deprecated. It has been renamed to `eager`.\n",
            "  ctx = pl.SQLContext(\n"
          ]
        }
      ]
    },
    {
      "cell_type": "code",
      "source": [
        "#Exercise 1\n",
        "#q1.1\n",
        "result = ctx.execute(\"\"\"\n",
        "select DISTINCT carrier\n",
        "from airlines\n",
        "\"\"\")\n",
        "print(result)"
      ],
      "metadata": {
        "colab": {
          "base_uri": "https://localhost:8080/"
        },
        "id": "m8AC0qK4wrtG",
        "outputId": "cbb9a232-4bb0-470b-99aa-bd636d53bc2e"
      },
      "execution_count": 27,
      "outputs": [
        {
          "output_type": "stream",
          "name": "stdout",
          "text": [
            "shape: (16, 1)\n",
            "┌─────────┐\n",
            "│ carrier │\n",
            "│ ---     │\n",
            "│ str     │\n",
            "╞═════════╡\n",
            "│ 9E      │\n",
            "│ AA      │\n",
            "│ AS      │\n",
            "│ B6      │\n",
            "│ DL      │\n",
            "│ …       │\n",
            "│ UA      │\n",
            "│ US      │\n",
            "│ VX      │\n",
            "│ WN      │\n",
            "│ YV      │\n",
            "└─────────┘\n"
          ]
        }
      ]
    },
    {
      "cell_type": "code",
      "source": [
        "#q1.2\n",
        "result = ctx.execute(\"\"\"\n",
        "select dest, flight\n",
        "from flights\n",
        "group by dest, flight\n",
        "order by flight desc\n",
        "limit 10\n",
        "\"\"\")\n",
        "\n",
        "print(result)"
      ],
      "metadata": {
        "colab": {
          "base_uri": "https://localhost:8080/"
        },
        "id": "maTjIMMS0Z0x",
        "outputId": "b0ce2957-fb44-43c3-f170-bce75a5edaf0"
      },
      "execution_count": 31,
      "outputs": [
        {
          "output_type": "stream",
          "name": "stdout",
          "text": [
            "shape: (10, 2)\n",
            "┌──────┬────────┐\n",
            "│ dest ┆ flight │\n",
            "│ ---  ┆ ---    │\n",
            "│ str  ┆ i64    │\n",
            "╞══════╪════════╡\n",
            "│ ORD  ┆ 8500   │\n",
            "│ IAD  ┆ 6181   │\n",
            "│ SDF  ┆ 6181   │\n",
            "│ IAD  ┆ 6180   │\n",
            "│ IAD  ┆ 6177   │\n",
            "│ IAD  ┆ 6171   │\n",
            "│ MSP  ┆ 6168   │\n",
            "│ IAD  ┆ 6167   │\n",
            "│ ROC  ┆ 6167   │\n",
            "│ IAD  ┆ 6165   │\n",
            "└──────┴────────┘\n"
          ]
        }
      ]
    },
    {
      "cell_type": "code",
      "source": [
        "#q1.3\n",
        "result = ctx.execute(\"\"\"\n",
        "select flight, dep_delay\n",
        "from flights\n",
        "where dep_delay > 120\n",
        "group by flight,dep_delay\n",
        "order by dep_delay desc\n",
        "\"\"\")\n",
        "\n",
        "print(result)"
      ],
      "metadata": {
        "colab": {
          "base_uri": "https://localhost:8080/"
        },
        "id": "yCZ9tj792Fl-",
        "outputId": "0b92b771-a106-4700-cd6c-b98848570b2d"
      },
      "execution_count": 35,
      "outputs": [
        {
          "output_type": "stream",
          "name": "stdout",
          "text": [
            "shape: (9_401, 2)\n",
            "┌────────┬───────────┐\n",
            "│ flight ┆ dep_delay │\n",
            "│ ---    ┆ ---       │\n",
            "│ i64    ┆ i64       │\n",
            "╞════════╪═══════════╡\n",
            "│ 51     ┆ 1301      │\n",
            "│ 3535   ┆ 1137      │\n",
            "│ 3695   ┆ 1126      │\n",
            "│ 177    ┆ 1014      │\n",
            "│ 3075   ┆ 1005      │\n",
            "│ …      ┆ …         │\n",
            "│ 3315   ┆ 121       │\n",
            "│ 1831   ┆ 121       │\n",
            "│ 4536   ┆ 121       │\n",
            "│ 1465   ┆ 121       │\n",
            "│ 4419   ┆ 121       │\n",
            "└────────┴───────────┘\n"
          ]
        }
      ]
    },
    {
      "cell_type": "code",
      "source": [
        "#Exercise 2\n",
        "#q2.1\n",
        "result = ctx.execute(\"\"\"\n",
        "select origin, avg(dep_delay) as avg_dep_delay\n",
        "from flights\n",
        "where dep_delay is not null\n",
        "group by origin\n",
        "order by avg_dep_delay desc\n",
        "\"\"\")\n",
        "print(result)"
      ],
      "metadata": {
        "colab": {
          "base_uri": "https://localhost:8080/"
        },
        "id": "vcmd3sCD24kb",
        "outputId": "7511b688-12c4-4554-cd7a-d7389e065bb1"
      },
      "execution_count": 40,
      "outputs": [
        {
          "output_type": "stream",
          "name": "stdout",
          "text": [
            "shape: (3, 2)\n",
            "┌────────┬───────────────┐\n",
            "│ origin ┆ avg_dep_delay │\n",
            "│ ---    ┆ ---           │\n",
            "│ str    ┆ f64           │\n",
            "╞════════╪═══════════════╡\n",
            "│ EWR    ┆ 15.107954     │\n",
            "│ JFK    ┆ 12.112159     │\n",
            "│ LGA    ┆ 10.346876     │\n",
            "└────────┴───────────────┘\n"
          ]
        }
      ]
    },
    {
      "cell_type": "code",
      "metadata": {
        "colab": {
          "base_uri": "https://localhost:8080/"
        },
        "id": "5ebec434",
        "outputId": "82cbb5ad-aafc-4227-d50c-066bcbbea02f"
      },
      "source": [
        "#q2.2\n",
        "result = ctx.execute(\"\"\"\n",
        "select month, count(*) AS flight_count\n",
        "from flights\n",
        "group by month\n",
        "order by flight_count DESC\n",
        "limit 1\n",
        "\"\"\")\n",
        "print(result)"
      ],
      "execution_count": 54,
      "outputs": [
        {
          "output_type": "stream",
          "name": "stdout",
          "text": [
            "shape: (1, 2)\n",
            "┌───────┬──────────────┐\n",
            "│ month ┆ flight_count │\n",
            "│ ---   ┆ ---          │\n",
            "│ i64   ┆ u32          │\n",
            "╞═══════╪══════════════╡\n",
            "│ 7     ┆ 29425        │\n",
            "└───────┴──────────────┘\n"
          ]
        }
      ]
    },
    {
      "cell_type": "code",
      "source": [
        "#2.3\n",
        "\n",
        "result = ctx.execute(\"\"\"\n",
        "select\n",
        "    carrier,\n",
        "    sum(case when dep_delay <= 15 then 1 else 0 end) * 100 / count(dep_delay) as on_time_percentage\n",
        "from flights\n",
        "where dep_delay is not null\n",
        "group by carrier\n",
        "order by on_time_percentage DESC\n",
        "\"\"\")\n",
        "\n",
        "print(result)"
      ],
      "metadata": {
        "colab": {
          "base_uri": "https://localhost:8080/"
        },
        "id": "wyO-qvk47zZX",
        "outputId": "c4cf86b2-8734-4e6c-b94f-078df04bebce"
      },
      "execution_count": 58,
      "outputs": [
        {
          "output_type": "stream",
          "name": "stdout",
          "text": [
            "shape: (16, 2)\n",
            "┌─────────┬────────────────────┐\n",
            "│ carrier ┆ on_time_percentage │\n",
            "│ ---     ┆ ---                │\n",
            "│ str     ┆ u32                │\n",
            "╞═════════╪════════════════════╡\n",
            "│ HA      ┆ 92                 │\n",
            "│ US      ┆ 87                 │\n",
            "│ AS      ┆ 86                 │\n",
            "│ AA      ┆ 84                 │\n",
            "│ DL      ┆ 83                 │\n",
            "│ …       ┆ …                  │\n",
            "│ FL      ┆ 73                 │\n",
            "│ WN      ┆ 73                 │\n",
            "│ F9      ┆ 71                 │\n",
            "│ YV      ┆ 71                 │\n",
            "│ EV      ┆ 69                 │\n",
            "└─────────┴────────────────────┘\n"
          ]
        }
      ]
    },
    {
      "cell_type": "code",
      "source": [
        "#Exercise 3\n",
        "#q3.1\n",
        "print(flights.columns)\n",
        "print(airlines.columns)\n",
        "\n",
        "result = ctx.execute(\"\"\"\n",
        "select a.carrier as carrier_code, a.name as airline_name, f.flight as flight_number , f.origin, f.dest\n",
        "from flights f\n",
        "left join airlines a on f.carrier = a.carrier\n",
        "limit 20\n",
        "\"\"\")\n",
        "print(result)"
      ],
      "metadata": {
        "colab": {
          "base_uri": "https://localhost:8080/"
        },
        "id": "Fwiz4JTB9Uyl",
        "outputId": "df5e3850-c65f-4836-fc81-91bda00718f6"
      },
      "execution_count": 63,
      "outputs": [
        {
          "output_type": "stream",
          "name": "stdout",
          "text": [
            "['year', 'month', 'day', 'dep_time', 'sched_dep_time', 'dep_delay', 'arr_time', 'sched_arr_time', 'arr_delay', 'carrier', 'flight', 'tailnum', 'origin', 'dest', 'air_time', 'distance', 'hour', 'minute', 'time_hour']\n",
            "['carrier', 'name']\n",
            "shape: (20, 5)\n",
            "┌──────────────┬────────────────────────┬───────────────┬────────┬──────┐\n",
            "│ carrier_code ┆ airline_name           ┆ flight_number ┆ origin ┆ dest │\n",
            "│ ---          ┆ ---                    ┆ ---           ┆ ---    ┆ ---  │\n",
            "│ str          ┆ str                    ┆ i64           ┆ str    ┆ str  │\n",
            "╞══════════════╪════════════════════════╪═══════════════╪════════╪══════╡\n",
            "│ UA           ┆ United Air Lines Inc.  ┆ 1545          ┆ EWR    ┆ IAH  │\n",
            "│ UA           ┆ United Air Lines Inc.  ┆ 1714          ┆ LGA    ┆ IAH  │\n",
            "│ AA           ┆ American Airlines Inc. ┆ 1141          ┆ JFK    ┆ MIA  │\n",
            "│ B6           ┆ JetBlue Airways        ┆ 725           ┆ JFK    ┆ BQN  │\n",
            "│ DL           ┆ Delta Air Lines Inc.   ┆ 461           ┆ LGA    ┆ ATL  │\n",
            "│ …            ┆ …                      ┆ …             ┆ …      ┆ …    │\n",
            "│ B6           ┆ JetBlue Airways        ┆ 1806          ┆ JFK    ┆ BOS  │\n",
            "│ UA           ┆ United Air Lines Inc.  ┆ 1187          ┆ EWR    ┆ LAS  │\n",
            "│ B6           ┆ JetBlue Airways        ┆ 371           ┆ LGA    ┆ FLL  │\n",
            "│ MQ           ┆ Envoy Air              ┆ 4650          ┆ LGA    ┆ ATL  │\n",
            "│ B6           ┆ JetBlue Airways        ┆ 343           ┆ EWR    ┆ PBI  │\n",
            "└──────────────┴────────────────────────┴───────────────┴────────┴──────┘\n"
          ]
        }
      ]
    },
    {
      "cell_type": "code",
      "metadata": {
        "colab": {
          "base_uri": "https://localhost:8080/"
        },
        "id": "ed9bfb1c",
        "outputId": "8ec9ad49-b180-4f58-bace-f145c5273e6f"
      },
      "source": [
        "#q3.2\n",
        "result = ctx.execute(\"\"\"\n",
        "select\n",
        "    a.name as airline_name,\n",
        "    avg(2013 - p.year) as average_plane_age\n",
        "from flights as f\n",
        "join planes as p on f.tailnum = p.tailnum\n",
        "join airlines as a on f.carrier = a.carrier\n",
        "where f.year = 2013 and p.year is not null\n",
        "group by a.name\n",
        "order by average_plane_age desc\n",
        "\"\"\")\n",
        "\n",
        "print(result)"
      ],
      "execution_count": 69,
      "outputs": [
        {
          "output_type": "stream",
          "name": "stdout",
          "text": [
            "shape: (16, 2)\n",
            "┌─────────────────────────────┬───────────────────┐\n",
            "│ airline_name                ┆ average_plane_age │\n",
            "│ ---                         ┆ ---               │\n",
            "│ str                         ┆ f64               │\n",
            "╞═════════════════════════════╪═══════════════════╡\n",
            "│ Envoy Air                   ┆ 35.319            │\n",
            "│ American Airlines Inc.      ┆ 25.869426         │\n",
            "│ Delta Air Lines Inc.        ┆ 16.372169         │\n",
            "│ United Air Lines Inc.       ┆ 13.207691         │\n",
            "│ AirTran Airways Corporation ┆ 11.385829         │\n",
            "│ …                           ┆ …                 │\n",
            "│ JetBlue Airways             ┆ 6.686702          │\n",
            "│ Frontier Airlines Inc.      ┆ 4.87874           │\n",
            "│ Virgin America              ┆ 4.473643          │\n",
            "│ Alaska Airlines Inc.        ┆ 3.33662           │\n",
            "│ Hawaiian Airlines Inc.      ┆ 1.548387          │\n",
            "└─────────────────────────────┴───────────────────┘\n"
          ]
        }
      ]
    },
    {
      "cell_type": "code",
      "metadata": {
        "colab": {
          "base_uri": "https://localhost:8080/"
        },
        "id": "8ce66baf",
        "outputId": "9dfa5610-b496-48f5-a721-d5891c0abfbd"
      },
      "source": [
        "#q3.3\n",
        "result = ctx.execute(\"\"\"\n",
        "select\n",
        "    f.flight,\n",
        "    f.dep_delay,\n",
        "    w.wind_speed,\n",
        "    w.precip,\n",
        "    f.origin\n",
        "from flights as f\n",
        "join weather as w\n",
        "  on f.time_hour = w.time_hour and f.origin = w.origin\n",
        "where f.dep_delay > 30 and (w.wind_speed > 20 or w.precip > 0.1)\n",
        "\"\"\")\n",
        "\n",
        "print(result)"
      ],
      "execution_count": 73,
      "outputs": [
        {
          "output_type": "stream",
          "name": "stdout",
          "text": [
            "shape: (4_938, 5)\n",
            "┌────────┬───────────┬────────────┬────────┬────────┐\n",
            "│ flight ┆ dep_delay ┆ wind_speed ┆ precip ┆ origin │\n",
            "│ ---    ┆ ---       ┆ ---        ┆ ---    ┆ ---    │\n",
            "│ i64    ┆ i64       ┆ f64        ┆ f64    ┆ str    │\n",
            "╞════════╪═══════════╪════════════╪════════╪════════╡\n",
            "│ 21     ┆ 47        ┆ 21.86482   ┆ 0.0    ┆ JFK    │\n",
            "│ 199    ┆ 116       ┆ 21.86482   ┆ 0.0    ┆ JFK    │\n",
            "│ 4090   ┆ 39        ┆ 20.71404   ┆ 0.0    ┆ EWR    │\n",
            "│ 4231   ┆ 40        ┆ 24.16638   ┆ 0.0    ┆ EWR    │\n",
            "│ 1010   ┆ 33        ┆ 20.71404   ┆ 0.0    ┆ JFK    │\n",
            "│ …      ┆ …         ┆ …          ┆ …      ┆ …      │\n",
            "│ 2347   ┆ 41        ┆ 20.71404   ┆ 0.0    ┆ LGA    │\n",
            "│ 5503   ┆ 97        ┆ 20.71404   ┆ 0.0    ┆ LGA    │\n",
            "│ 135    ┆ 42        ┆ 21.86482   ┆ 0.0    ┆ JFK    │\n",
            "│ 797    ┆ 46        ┆ 21.86482   ┆ 0.0    ┆ JFK    │\n",
            "│ 985    ┆ 45        ┆ 21.86482   ┆ 0.0    ┆ JFK    │\n",
            "└────────┴───────────┴────────────┴────────┴────────┘\n"
          ]
        }
      ]
    },
    {
      "cell_type": "code",
      "source": [
        "#Exercise 4\n",
        "#q4.1\n",
        "result = ctx.execute(\"\"\"\n",
        "select p.manufacturer, p.model, count(*) as number_of_flights\n",
        "from flights as f\n",
        "join planes as p on f.tailnum = p.tailnum\n",
        "group by p.manufacturer, p.model\n",
        "order by number_of_flights desc\n",
        "limit 10\n",
        "\"\"\")\n",
        "\n",
        "print(result)"
      ],
      "metadata": {
        "colab": {
          "base_uri": "https://localhost:8080/"
        },
        "id": "Fv5P1TVuC9JF",
        "outputId": "14db837f-5d2c-489d-dd0e-22b0fcf46548"
      },
      "execution_count": 78,
      "outputs": [
        {
          "output_type": "stream",
          "name": "stdout",
          "text": [
            "shape: (10, 3)\n",
            "┌───────────────────────────────┬─────────────────┬───────────────────┐\n",
            "│ manufacturer                  ┆ model           ┆ number_of_flights │\n",
            "│ ---                           ┆ ---             ┆ ---               │\n",
            "│ str                           ┆ str             ┆ u32               │\n",
            "╞═══════════════════════════════╪═════════════════╪═══════════════════╡\n",
            "│ AIRBUS                        ┆ A320-232        ┆ 31278             │\n",
            "│ EMBRAER                       ┆ EMB-145LR       ┆ 28027             │\n",
            "│ EMBRAER                       ┆ ERJ 190-100 IGW ┆ 23716             │\n",
            "│ AIRBUS INDUSTRIE              ┆ A320-232        ┆ 14553             │\n",
            "│ EMBRAER                       ┆ EMB-145XR       ┆ 14051             │\n",
            "│ BOEING                        ┆ 737-824         ┆ 13809             │\n",
            "│ BOMBARDIER INC                ┆ CL-600-2D24     ┆ 11807             │\n",
            "│ BOEING                        ┆ 737-7H4         ┆ 10389             │\n",
            "│ BOEING                        ┆ 757-222         ┆ 9150              │\n",
            "│ MCDONNELL DOUGLAS AIRCRAFT CO ┆ MD-88           ┆ 8932              │\n",
            "└───────────────────────────────┴─────────────────┴───────────────────┘\n"
          ]
        }
      ]
    },
    {
      "cell_type": "code",
      "source": [
        "#q4.2\n",
        "flight_analysis = ctx.execute(\"\"\"\n",
        "select *\n",
        "from flights as f\n",
        "where f.dest is not null\n",
        "\"\"\")\n",
        "\n",
        "origin_data = (\n",
        "    flight_analysis\n",
        "    .join(\n",
        "        airports.select(['faa', 'name']),\n",
        "        left_on='origin',\n",
        "        right_on='faa',\n",
        "        how='left'\n",
        "    ).rename({'name': 'origin_airport'})\n",
        ")\n",
        "\n",
        "destination_data = (\n",
        "    origin_data\n",
        "    .join(\n",
        "        airports.select(['faa', 'name']),\n",
        "        left_on='dest',\n",
        "        right_on='faa',\n",
        "        how='left'\n",
        "    ).rename({'name': 'destination_airport'})\n",
        ")\n",
        "\n",
        "performance_data = destination_data.group_by(['origin_airport', 'destination_airport']).agg([\n",
        "    pl.len().alias('total_flights'),\n",
        "    pl.col('dep_delay').mean().alias('avg_dep_delay'),\n",
        "    ((pl.col('dep_delay') > 30).sum() / pl.len() * 100).alias('percentage_delay_over_30')\n",
        "])\n",
        "\n",
        "route_performance = performance_data.filter(pl.col('destination_airport') != 'null').sort('total_flights', descending=True).limit(10)\n",
        "\n",
        "print(route_performance)\n"
      ],
      "metadata": {
        "colab": {
          "base_uri": "https://localhost:8080/"
        },
        "id": "kl5vaVMjwV7m",
        "outputId": "8290d3e1-3e9b-442a-9853-a364486d4c25"
      },
      "execution_count": 201,
      "outputs": [
        {
          "output_type": "stream",
          "name": "stdout",
          "text": [
            "shape: (10, 5)\n",
            "┌─────────────────────┬──────────────────────┬───────────────┬───────────────┬─────────────────────┐\n",
            "│ origin_airport      ┆ destination_airport  ┆ total_flights ┆ avg_dep_delay ┆ percentage_delay_ov │\n",
            "│ ---                 ┆ ---                  ┆ ---           ┆ ---           ┆ er_30               │\n",
            "│ str                 ┆ str                  ┆ u32           ┆ f64           ┆ ---                 │\n",
            "│                     ┆                      ┆               ┆               ┆ f64                 │\n",
            "╞═════════════════════╪══════════════════════╪═══════════════╪═══════════════╪═════════════════════╡\n",
            "│ John F Kennedy Intl ┆ Los Angeles Intl     ┆ 11262         ┆ 8.522508      ┆ 9.829515            │\n",
            "│ La Guardia          ┆ Hartsfield Jackson   ┆ 10263         ┆ 11.448621     ┆ 12.247881           │\n",
            "│                     ┆ Atlanta Intl         ┆               ┆               ┆                     │\n",
            "│ La Guardia          ┆ Chicago Ohare Intl   ┆ 8857          ┆ 10.740758     ┆ 13.345377           │\n",
            "│ John F Kennedy Intl ┆ San Francisco Intl   ┆ 8204          ┆ 11.952691     ┆ 12.116041           │\n",
            "│ La Guardia          ┆ Charlotte Douglas    ┆ 6168          ┆ 8.965321      ┆ 11.948768           │\n",
            "│                     ┆ Intl                 ┆               ┆               ┆                     │\n",
            "│ Newark Liberty Intl ┆ Chicago Ohare Intl   ┆ 6100          ┆ 14.644163     ┆ 16.0                │\n",
            "│ John F Kennedy Intl ┆ General Edward       ┆ 5898          ┆ 11.694953     ┆ 13.767379           │\n",
            "│                     ┆ Lawrence Logan Intl  ┆               ┆               ┆                     │\n",
            "│ La Guardia          ┆ Miami Intl           ┆ 5781          ┆ 7.361747      ┆ 9.462031            │\n",
            "│ John F Kennedy Intl ┆ Orlando Intl         ┆ 5464          ┆ 10.601583     ┆ 12.719619           │\n",
            "│ Newark Liberty Intl ┆ General Edward       ┆ 5327          ┆ 12.54561      ┆ 14.9052             │\n",
            "│                     ┆ Lawrence Logan Intl  ┆               ┆               ┆                     │\n",
            "└─────────────────────┴──────────────────────┴───────────────┴───────────────┴─────────────────────┘\n"
          ]
        }
      ]
    },
    {
      "cell_type": "code",
      "metadata": {
        "colab": {
          "base_uri": "https://localhost:8080/"
        },
        "id": "939eca57",
        "outputId": "38013c0b-739f-4159-d5e2-741d32d5d4cf"
      },
      "source": [
        "#Bonus\n",
        "#q2.2 using polars\n",
        "busiest_month = flights.group_by(\"month\").agg(\n",
        "    pl.len().alias(\"flight_count\")\n",
        ").sort(\"flight_count\", descending=True).limit(1)\n",
        "\n",
        "print(busiest_month)"
      ],
      "execution_count": 136,
      "outputs": [
        {
          "output_type": "stream",
          "name": "stdout",
          "text": [
            "shape: (1, 2)\n",
            "┌───────┬──────────────┐\n",
            "│ month ┆ flight_count │\n",
            "│ ---   ┆ ---          │\n",
            "│ i64   ┆ u32          │\n",
            "╞═══════╪══════════════╡\n",
            "│ 7     ┆ 29425        │\n",
            "└───────┴──────────────┘\n"
          ]
        }
      ]
    }
  ]
}